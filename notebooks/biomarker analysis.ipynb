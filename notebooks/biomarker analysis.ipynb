{
 "cells": [
  {
   "cell_type": "code",
   "id": "initial_id",
   "metadata": {
    "collapsed": true,
    "ExecuteTime": {
     "end_time": "2025-03-07T15:19:15.500356Z",
     "start_time": "2025-03-07T15:19:14.038747Z"
    }
   },
   "source": [
    "import pandas as pd\n",
    "import numpy as np\n",
    "import matplotlib.pyplot as plt\n",
    "import seaborn as sns\n",
    "import scienceplots\n",
    "import os\n",
    "\n",
    "plt.style.use(['science', 'grid'])\n",
    "plt.rc('figure', titlesize = 33, figsize = (21, 7))\n",
    "plt.rc('axes', titlesize = 27, labelsize = 21, titlepad = 21)\n",
    "plt.rc('xtick', labelsize = 17)\n",
    "plt.rc('ytick', labelsize = 17)"
   ],
   "outputs": [],
   "execution_count": 1
  },
  {
   "metadata": {
    "ExecuteTime": {
     "end_time": "2025-03-07T15:59:32.599747Z",
     "start_time": "2025-03-07T15:59:32.584806Z"
    }
   },
   "cell_type": "code",
   "source": [
    "bio = pd.read_csv('data/bio.csv')\n",
    "\n",
    "bio.columns = (\n",
    "    bio.columns\n",
    "    .str.strip()\n",
    "    .str.lower()\n",
    "    .str.replace('#', '')\n",
    "    .str.replace('__', '')\n",
    "    .str.replace('_glu', '')\n",
    "    .str.replace('contour', '')\n",
    "    .str.replace(' ', '_')\n",
    "    .str.replace('(', '')\n",
    "    .str.replace(')', '')\n",
    "    .str.replace('.', '')\n",
    ")\n",
    "bio = bio.drop(columns = [\"collection_time_pdl_lab\"])\n",
    "bio.rename(columns = {\n",
    "    \"1__fingerstick_glu\": \"fingerstick_one\",\n",
    "    \"2__fingerstick_glu\": \"fingerstick_two\",\n",
    "    \"3__fingerstick_glu\": \"fingerstick_three\",\n",
    "    \"time_t\":\"time_one\",\n",
    "    \"time_t1\":\"time_two\",\n",
    "    \"time_t2\":\"time_three\",\n",
    "    \"fasting_glu_-_pdl_lab\":\"fasting_glu\",\n",
    "    \"a1c_pdl_lab\":\"a1c\",\n",
    "    \"self-identify\":\"ethnicity\"\n",
    "        }, inplace = True)\n",
    "\n",
    "bio[\"ethnicity\"] = (\n",
    "    bio[\"ethnicity\"]\n",
    "    .str.lower()\n",
    "    .str.replace('hispanic/', '')\n",
    "    .str.replace('black, ', '')\n",
    "    .str.replace(' ', '_')\n",
    "    .str.strip()\n",
    ")\n",
    "\n",
    "\n",
    "bio = pd.get_dummies(bio, columns=[\"ethnicity\"])\n",
    "\n",
    "bio[\"gender\"] = np.where(bio.gender == 'M', 1, 0).astype('bool')\n",
    "\n",
    "# create the 'diabetes' column\n",
    "bins = [0, 5.7, 6.4, float('inf')]\n",
    "labels = [0, 1, 2]\n",
    "bio['diabetes'] = pd.cut(bio['a1c'], bins=bins, labels=labels, right=False)\n",
    "\n",
    "# save the data\n",
    "bio.to_csv('data/bio_test.csv', index = False)\n",
    "\n",
    "bio.head()\n",
    "bio.info()"
   ],
   "id": "7cc2b73ee81f1805",
   "outputs": [
    {
     "name": "stdout",
     "output_type": "stream",
     "text": [
      "<class 'pandas.core.frame.DataFrame'>\n",
      "RangeIndex: 45 entries, 0 to 44\n",
      "Data columns (total 26 columns):\n",
      " #   Column                      Non-Null Count  Dtype   \n",
      "---  ------                      --------------  -----   \n",
      " 0   subject                     45 non-null     int64   \n",
      " 1   age                         45 non-null     int64   \n",
      " 2   gender                      45 non-null     bool    \n",
      " 3   bmi                         45 non-null     float64 \n",
      " 4   body_weight                 45 non-null     float64 \n",
      " 5   height                      45 non-null     float64 \n",
      " 6   a1c                         45 non-null     float64 \n",
      " 7   fasting_glu                 45 non-null     int64   \n",
      " 8   insulin                     45 non-null     float64 \n",
      " 9   triglycerides               45 non-null     int64   \n",
      " 10  cholesterol                 45 non-null     int64   \n",
      " 11  hdl                         45 non-null     int64   \n",
      " 12  non_hdl                     45 non-null     int64   \n",
      " 13  ldl_cal                     45 non-null     int64   \n",
      " 14  vldl_cal                    45 non-null     int64   \n",
      " 15  cho/hdl_ratio               45 non-null     float64 \n",
      " 16  fingerstick_one             45 non-null     int64   \n",
      " 17  time_one                    45 non-null     object  \n",
      " 18  fingerstick_two             45 non-null     int64   \n",
      " 19  time_two                    45 non-null     object  \n",
      " 20  fingerstick_three           45 non-null     int64   \n",
      " 21  time_three                  45 non-null     object  \n",
      " 22  ethnicity_african_american  45 non-null     bool    \n",
      " 23  ethnicity_latino            45 non-null     bool    \n",
      " 24  ethnicity_white             45 non-null     bool    \n",
      " 25  diabetes                    45 non-null     category\n",
      "dtypes: bool(4), category(1), float64(6), int64(12), object(3)\n",
      "memory usage: 7.9+ KB\n"
     ]
    }
   ],
   "execution_count": 31
  },
  {
   "metadata": {},
   "cell_type": "code",
   "source": "sns.pairplot(bio)",
   "id": "5f079e0e452fa62",
   "outputs": [],
   "execution_count": null
  },
  {
   "metadata": {
    "ExecuteTime": {
     "end_time": "2025-03-07T15:49:50.440575Z",
     "start_time": "2025-03-07T15:49:50.414337Z"
    }
   },
   "cell_type": "code",
   "source": [
    "gut = pd.read_csv('data/gut_health_test.csv')\n",
    "\n",
    "gut.columns = (\n",
    "    gut.columns\n",
    "    .str.strip()\n",
    "    .str.lower()\n",
    "    .str.replace('#', '')\n",
    "    .str.replace(' ', '_')\n",
    "    .str.replace('(', '')\n",
    "    .str.replace(')', '')\n",
    "    .str.replace('.', '')\n",
    ")\n",
    "gut.dropna(inplace = True)\n",
    "for col in gut.columns:\n",
    "    if col != 'subject':\n",
    "        gut[col] = gut[col].astype('int64')\n",
    "        gut[col] = pd.Categorical(gut[col], ordered = True, categories = [1, 2, 3])\n",
    "\n"
   ],
   "id": "b3801c330d4b9568",
   "outputs": [
    {
     "data": {
      "text/plain": [
       "(42, 23)"
      ]
     },
     "execution_count": 20,
     "metadata": {},
     "output_type": "execute_result"
    }
   ],
   "execution_count": 20
  },
  {
   "metadata": {
    "ExecuteTime": {
     "end_time": "2025-03-07T15:59:44.547666Z",
     "start_time": "2025-03-07T15:59:44.537776Z"
    }
   },
   "cell_type": "code",
   "source": [
    "bioxgut = pd.merge(bio, gut, on = 'subject')\n",
    "\n",
    "bioxgut.dropna(inplace = True)\n",
    "\n",
    "bioxgut.to_csv('data/bio_x_gut.csv', index = False)"
   ],
   "id": "4cbfb5afaa0d1e9d",
   "outputs": [],
   "execution_count": 32
  }
 ],
 "metadata": {
  "kernelspec": {
   "display_name": "Python 3",
   "language": "python",
   "name": "python3"
  },
  "language_info": {
   "codemirror_mode": {
    "name": "ipython",
    "version": 2
   },
   "file_extension": ".py",
   "mimetype": "text/x-python",
   "name": "python",
   "nbconvert_exporter": "python",
   "pygments_lexer": "ipython2",
   "version": "2.7.6"
  }
 },
 "nbformat": 4,
 "nbformat_minor": 5
}
