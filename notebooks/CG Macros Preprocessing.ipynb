{
 "cells": [
  {
   "cell_type": "code",
   "id": "initial_id",
   "metadata": {
    "collapsed": true,
    "ExecuteTime": {
     "end_time": "2025-03-08T09:29:09.096099Z",
     "start_time": "2025-03-08T09:29:09.083719Z"
    }
   },
   "source": [
    "import pandas as pd\n",
    "import numpy as np\n",
    "import matplotlib.pyplot as plt\n",
    "import seaborn as sns\n",
    "import scienceplots\n",
    "import os\n",
    "\n",
    "plt.style.use(['science', 'grid'])\n",
    "plt.rc('figure', titlesize = 33, figsize = (21, 7))\n",
    "plt.rc('axes', titlesize = 27, labelsize = 21, titlepad = 21)\n",
    "plt.rc('xtick', labelsize = 17)\n",
    "plt.rc('ytick', labelsize = 17)\n",
    "\n",
    "master = '/Users/fomo/Documents/Kaizen/code/physionet/data/CG Macros'"
   ],
   "outputs": [],
   "execution_count": 2
  },
  {
   "metadata": {},
   "cell_type": "markdown",
   "source": "# Glucose Preprocessing",
   "id": "fee74975814e2dfb"
  },
  {
   "metadata": {
    "ExecuteTime": {
     "end_time": "2025-03-08T09:34:55.581705Z",
     "start_time": "2025-03-08T09:34:51.834870Z"
    }
   },
   "cell_type": "code",
   "source": [
    "# preprocessing CGMacros data\n",
    "count = 0\n",
    "\n",
    "for i in range(1, 50):\n",
    "\n",
    "    # open temp file\n",
    "    if i < 10:\n",
    "        common = \"CGMacros-00\"\n",
    "    else:\n",
    "        common = \"CGMacros-0\"\n",
    "\n",
    "    filestring = common + str(i)\n",
    "\n",
    "    try:\n",
    "        temp = pd.read_csv(os.path.join(master, \"raw\", filestring, filestring + \".csv\"))\n",
    "    except FileNotFoundError:\n",
    "        print(f\"File {filestring} not found\")\n",
    "        continue\n",
    "\n",
    "    # preprocess data\n",
    "    temp[\"Timestamp\"] = pd.to_datetime(temp[\"Timestamp\"])\n",
    "    temp.columns = (temp.columns.\n",
    "                    str.lower().\n",
    "                    str.strip().\n",
    "                    str.replace(' ', '_').\n",
    "                    str.replace('(', '').\n",
    "                    str.replace(')', '')\n",
    "                    )\n",
    "\n",
    "    # define the output directory and filename\n",
    "    new_filestring = os.path.join(master, \"preprocessed\", f\"{filestring}-preprocessed.csv\")\n",
    "\n",
    "    # Save the preprocessed data to a new CSV file\n",
    "    temp.drop(columns = [\"image_path\"], inplace = True)\n",
    "    if 'unnamed:_0' in temp.columns:\n",
    "        temp.drop(columns = ['unnamed:_0'], inplace = True)\n",
    "    temp.to_csv(new_filestring, index=False)\n",
    "    \n",
    "    count += 1\n",
    "\n",
    "print(f\"Preprocessed {count} files\")"
   ],
   "id": "604a718f6c4b7521",
   "outputs": [
    {
     "name": "stdout",
     "output_type": "stream",
     "text": [
      "File CGMacros-024 not found\n",
      "File CGMacros-025 not found\n",
      "File CGMacros-037 not found\n",
      "File CGMacros-040 not found\n",
      "Preprocessed 45 files\n"
     ]
    }
   ],
   "execution_count": 17
  },
  {
   "metadata": {},
   "cell_type": "markdown",
   "source": "",
   "id": "8e9e5bec0c4c0bec"
  },
  {
   "metadata": {},
   "cell_type": "markdown",
   "source": "## Glucose EDA",
   "id": "6ee5e1fa105929e6"
  },
  {
   "metadata": {
    "ExecuteTime": {
     "end_time": "2025-03-08T09:34:56.759694Z",
     "start_time": "2025-03-08T09:34:56.754786Z"
    }
   },
   "cell_type": "code",
   "source": [
    "temp.shape\n",
    "\n",
    "temp.columns"
   ],
   "id": "88b7ca2189748066",
   "outputs": [
    {
     "data": {
      "text/plain": [
       "Index(['timestamp', 'libre_gl', 'dexcom_gl', 'hr', 'calories_activity', 'mets',\n",
       "       'meal_type', 'calories', 'carbs', 'protein', 'fat', 'fiber',\n",
       "       'amount_consumed'],\n",
       "      dtype='object')"
      ]
     },
     "execution_count": 18,
     "metadata": {},
     "output_type": "execute_result"
    }
   ],
   "execution_count": 18
  },
  {
   "metadata": {},
   "cell_type": "markdown",
   "source": "# Biomarker Preprocessing",
   "id": "4ef565b681e73497"
  },
  {
   "metadata": {
    "ExecuteTime": {
     "end_time": "2025-03-08T08:16:03.605482Z",
     "start_time": "2025-03-08T08:16:03.552223Z"
    }
   },
   "cell_type": "code",
   "source": [
    "bio = pd.read_csv(os.path.join(master, \"raw\", \"bio.csv\"))\n",
    "\n",
    "bio.columns = (\n",
    "    bio.columns\n",
    "    .str.strip()\n",
    "    .str.lower()\n",
    "    .str.replace('#', '')\n",
    "    .str.replace('__', '')\n",
    "    .str.replace('_glu', '')\n",
    "    .str.replace('contour', '')\n",
    "    .str.replace(' ', '_')\n",
    "    .str.replace('(', '')\n",
    "    .str.replace(')', '')\n",
    "    .str.replace('.', '')\n",
    ")\n",
    "bio = bio.drop(columns = [\"collection_time_pdl_lab\"])\n",
    "bio.rename(columns = {\n",
    "    \"1__fingerstick_glu\": \"fingerstick_one\",\n",
    "    \"2__fingerstick_glu\": \"fingerstick_two\",\n",
    "    \"3__fingerstick_glu\": \"fingerstick_three\",\n",
    "    \"time_t\":\"time_one\",\n",
    "    \"time_t1\":\"time_two\",\n",
    "    \"time_t2\":\"time_three\",\n",
    "    \"fasting_glu_-_pdl_lab\":\"fasting_glu\",\n",
    "    \"a1c_pdl_lab\":\"a1c\",\n",
    "    \"self-identify\":\"ethnicity\"\n",
    "        }, inplace = True)\n",
    "\n",
    "# cleaning the ethnicity column\n",
    "bio[\"ethnicity\"] = (\n",
    "    bio[\"ethnicity\"]\n",
    "    .str.lower()\n",
    "    .str.replace('hispanic/', '')\n",
    "    .str.replace('black, ', '')\n",
    "    .str.replace(' ', '_')\n",
    "    .str.strip()\n",
    ")\n",
    "bio = pd.get_dummies(bio, columns=[\"ethnicity\"])\n",
    "\n",
    "# calculating the average fingerstick glu\n",
    "bio[\"fingerstick_avg\"] = bio[[\"fingerstick_one\", \"fingerstick_two\", \"fingerstick_three\"]].mean(axis = 1)\n",
    "\n",
    "# convert gender column to numerical\n",
    "bio[\"gender\"] = np.where(bio.gender == 'M', 1, 0).astype('bool')\n",
    "\n",
    "# create the 'diabetes' column\n",
    "bins = [0, 5.7, 6.4, float('inf')]\n",
    "labels = [0, 1, 2]\n",
    "bio['diabetes'] = pd.cut(bio['a1c'], bins=bins, labels=labels, right=False)\n",
    "\n",
    "# save the data\n",
    "bio.drop(columns = [\"fingerstick_one\", \"fingerstick_two\", \"fingerstick_three\", \"time_one\", \"time_two\", \"time_three\"], inplace = True)\n",
    "bio.to_csv('/Users/fomo/Documents/Kaizen/code/physionet/data/CG Macros/bio_edit.csv', index = False)\n",
    "\n",
    "bio.head()\n",
    "bio.info()"
   ],
   "id": "7cc2b73ee81f1805",
   "outputs": [
    {
     "name": "stdout",
     "output_type": "stream",
     "text": [
      "<class 'pandas.core.frame.DataFrame'>\n",
      "RangeIndex: 45 entries, 0 to 44\n",
      "Data columns (total 21 columns):\n",
      " #   Column                      Non-Null Count  Dtype   \n",
      "---  ------                      --------------  -----   \n",
      " 0   subject                     45 non-null     int64   \n",
      " 1   age                         45 non-null     int64   \n",
      " 2   gender                      45 non-null     bool    \n",
      " 3   bmi                         45 non-null     float64 \n",
      " 4   body_weight                 45 non-null     float64 \n",
      " 5   height                      45 non-null     float64 \n",
      " 6   a1c                         45 non-null     float64 \n",
      " 7   fasting_glu                 45 non-null     int64   \n",
      " 8   insulin                     45 non-null     float64 \n",
      " 9   triglycerides               45 non-null     int64   \n",
      " 10  cholesterol                 45 non-null     int64   \n",
      " 11  hdl                         45 non-null     int64   \n",
      " 12  non_hdl                     45 non-null     int64   \n",
      " 13  ldl_cal                     45 non-null     int64   \n",
      " 14  vldl_cal                    45 non-null     int64   \n",
      " 15  cho/hdl_ratio               45 non-null     float64 \n",
      " 16  ethnicity_african_american  45 non-null     bool    \n",
      " 17  ethnicity_latino            45 non-null     bool    \n",
      " 18  ethnicity_white             45 non-null     bool    \n",
      " 19  fingerstick_avg             45 non-null     float64 \n",
      " 20  diabetes                    45 non-null     category\n",
      "dtypes: bool(4), category(1), float64(7), int64(9)\n",
      "memory usage: 6.1 KB\n"
     ]
    }
   ],
   "execution_count": 3
  },
  {
   "metadata": {},
   "cell_type": "markdown",
   "source": "# Gut Health Preprocessing",
   "id": "3eda2ad0a438cf57"
  },
  {
   "metadata": {
    "ExecuteTime": {
     "end_time": "2025-03-08T08:16:18.680808Z",
     "start_time": "2025-03-08T08:16:18.665907Z"
    }
   },
   "cell_type": "code",
   "source": [
    "gut = pd.read_csv(os.path.join(master, \"raw\", \"gut_health_test.csv\"))\n",
    "\n",
    "gut.columns = (\n",
    "    gut.columns\n",
    "    .str.strip()\n",
    "    .str.lower()\n",
    "    .str.replace('#', '')\n",
    "    .str.replace(' ', '_')\n",
    "    .str.replace('(', '')\n",
    "    .str.replace(')', '')\n",
    "    .str.replace('.', '')\n",
    ")\n",
    "gut.dropna(inplace = True)\n",
    "for col in gut.columns:\n",
    "    if col != 'subject':\n",
    "        gut[col] = gut[col].astype('int64')\n",
    "        gut[col] = pd.Categorical(gut[col], ordered = True, categories = [1, 2, 3])\n",
    "\n",
    "gut.to_csv('/Users/fomo/Documents/Kaizen/code/physionet/data/CG Macros/gut_health_test_edit.csv')"
   ],
   "id": "b3801c330d4b9568",
   "outputs": [],
   "execution_count": 5
  },
  {
   "metadata": {
    "ExecuteTime": {
     "end_time": "2025-03-08T08:16:19.808550Z",
     "start_time": "2025-03-08T08:16:19.796493Z"
    }
   },
   "cell_type": "code",
   "source": [
    "bioxgut = pd.merge(bio, gut, on = 'subject')\n",
    "\n",
    "bioxgut.dropna(inplace = True)\n",
    "\n",
    "bioxgut.to_csv('/Users/fomo/Documents/Kaizen/code/physionet/data/CG Macros/bio_x_gut.csv', index = False)\n",
    "\n",
    "bioxgut.shape"
   ],
   "id": "4cbfb5afaa0d1e9d",
   "outputs": [
    {
     "data": {
      "text/plain": [
       "(42, 43)"
      ]
     },
     "execution_count": 6,
     "metadata": {},
     "output_type": "execute_result"
    }
   ],
   "execution_count": 6
  },
  {
   "metadata": {},
   "cell_type": "markdown",
   "source": "# Microbes Preprocessing",
   "id": "59c964a756cbfc13"
  },
  {
   "metadata": {
    "ExecuteTime": {
     "end_time": "2025-03-09T08:47:27.069680Z",
     "start_time": "2025-03-09T08:47:26.767490Z"
    }
   },
   "cell_type": "code",
   "source": [
    "microbes = pd.read_csv(os.path.join(master, \"raw\", \"microbes.csv\"))\n",
    "\n",
    "for column in microbes.columns:\n",
    "    microbes[column].astype(\"bool\")\n",
    "    \n",
    "microbes.to_csv(os.path.join(master, \"microbes_edit.csv\"))"
   ],
   "id": "4e4b6292ea5d6e8e",
   "outputs": [],
   "execution_count": 26
  }
 ],
 "metadata": {
  "kernelspec": {
   "display_name": "Python 3",
   "language": "python",
   "name": "python3"
  },
  "language_info": {
   "codemirror_mode": {
    "name": "ipython",
    "version": 2
   },
   "file_extension": ".py",
   "mimetype": "text/x-python",
   "name": "python",
   "nbconvert_exporter": "python",
   "pygments_lexer": "ipython2",
   "version": "2.7.6"
  }
 },
 "nbformat": 4,
 "nbformat_minor": 5
}
